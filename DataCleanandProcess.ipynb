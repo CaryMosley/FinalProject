{
 "cells": [
  {
   "cell_type": "markdown",
   "metadata": {},
   "source": [
    "# Capstone Project Data Clean and Process Workbook\n",
    "Cary Mosley, May 2020"
   ]
  },
  {
   "cell_type": "markdown",
   "metadata": {},
   "source": [
    "## Import Libraries"
   ]
  },
  {
   "cell_type": "code",
   "execution_count": 1,
   "metadata": {},
   "outputs": [],
   "source": [
    "import pandas as pd\n",
    "import calendar, time\n",
    "import datetime as dt\n",
    "from datetime import date\n"
   ]
  },
  {
   "cell_type": "markdown",
   "metadata": {},
   "source": [
    "## Data Clean"
   ]
  },
  {
   "cell_type": "markdown",
   "metadata": {},
   "source": [
    "### Clean NYT Article Data"
   ]
  },
  {
   "cell_type": "code",
   "execution_count": 52,
   "metadata": {},
   "outputs": [
    {
     "name": "stdout",
     "output_type": "stream",
     "text": [
      "2005 1\n",
      "error 2005 2\n",
      "2006 1\n",
      "error 2006 2\n",
      "2007 1\n",
      "2007 2\n",
      "2008 1\n",
      "2008 2\n",
      "error 2009 1\n",
      "error 2010 1\n",
      "error 2011 1\n",
      "error 2012 1\n",
      "error 2013 1\n",
      "error 2014 1\n",
      "error 2015 1\n",
      "error 2016 1\n",
      "error 2017 1\n",
      "error 2018 1\n",
      "error 2019 1\n",
      "error 2020 1\n"
     ]
    }
   ],
   "source": [
    "#Set Years\n",
    "years = range(2005,2021)\n",
    "\n",
    "#Select keywords for articles\n",
    "keywords = ['Stock','Market','Finance','Business','Price','Debt','Portfolio','SP500',\n",
    "            'Nasdaq','Dow Jones']\n",
    "\n",
    "#Create DataFrame\n",
    "nyt_df_final = pd.DataFrame(columns=['Date', 'Headline','Snippet'])\n",
    "\n",
    "#Select just the headlines and snippets containing keywords\n",
    "for year in years:\n",
    "    \n",
    "    try:\n",
    "        #read in csv data\n",
    "        path = 'nyt'+str(year)+'1.csv'\n",
    "        nyt_df = pd.read_csv(path,index_col=None)\n",
    "        nyt_df.drop(columns=['Unnamed: 0'],inplace=True)\n",
    "        \n",
    "        #select date and convert to datetime object\n",
    "        nyt_df['Date']=nyt_df['Date'].apply(lambda x: x[0:10])\n",
    "        nyt_df['Date']=pd.to_datetime(nyt_df['Date'])\n",
    "        \n",
    "        #all headlines are there but some snippets are missing\n",
    "        nyt_df.dropna(inplace=True)\n",
    "        \n",
    "        #select headlines and snippets containing the keywords\n",
    "        nyt_df_headlines = nyt_df[nyt_df['Headline'].str.contains('|'.join(keywords))]\n",
    "        nyt_df_headlines = nyt_df_headlines[~nyt_df_headlines[\"Headline\"].str.contains('Corrections')]\n",
    "        nyt_df_snippets = nyt_df[nyt_df['Snippet'].str.contains('|'.join(keywords))]\n",
    "        \n",
    "        #concatenate dataframes\n",
    "        nyt_df_final = pd.concat([nyt_df_final,nyt_df_headlines,nyt_df_snippets])\n",
    "        print(year,'1')\n",
    "    except:\n",
    "        print('error',year,'1')\n",
    "        continue\n",
    "    \n",
    "    try:\n",
    "        #read in csv data\n",
    "        path = 'nyt'+str(year)+'2.csv'\n",
    "        nyt_df = pd.read_csv(path,index_col=None)\n",
    "        nyt_df.drop(columns=['Unnamed: 0'],inplace=True)\n",
    "        \n",
    "        #select date and convert to datetime object\n",
    "        nyt_df['Date']=nyt_df['Date'].apply(lambda x: x[0:10])\n",
    "        nyt_df['Date']=pd.to_datetime(nyt_df['Date'])\n",
    "        \n",
    "        #all headlines are there but some snippets are missing\n",
    "        nyt_df.dropna(inplace=True)\n",
    "        \n",
    "        #select headlines and snippets containing the keywords\n",
    "        nyt_df_headlines = nyt_df[nyt_df['Headline'].str.contains('|'.join(keywords))]\n",
    "        nyt_df_headlines = nyt_df_headlines[~nyt_df_headlines[\"Headline\"].str.contains('Corrections')]\n",
    "        nyt_df_snippets = nyt_df[nyt_df['Snippet'].str.contains('|'.join(keywords))]\n",
    "        \n",
    "        #concatenate dataframes\n",
    "        nyt_df_final = pd.concat([nyt_df_final,nyt_df_headlines,nyt_df_snippets])\n",
    "        print(year,'2')\n",
    "    except:\n",
    "        print('error',year,'2')\n",
    "        continue\n",
    "\n",
    "#Set the nyt_df_final index as the Date\n",
    "nyt_df_final.set_index('Date', inplace=True)\n",
    "\n",
    "#Write to pickle\n",
    "nyt_df_final.to_pickle('nyt_df')"
   ]
  },
  {
   "cell_type": "code",
   "execution_count": null,
   "metadata": {},
   "outputs": [],
   "source": []
  },
  {
   "cell_type": "markdown",
   "metadata": {},
   "source": [
    "### Clean Ticker Data"
   ]
  },
  {
   "cell_type": "code",
   "execution_count": 55,
   "metadata": {},
   "outputs": [],
   "source": [
    "#Import Ticker Data\n",
    "spy_df = pd.read_csv('spy.csv')\n",
    "vix_df = pd.read_csv('vix.csv')\n",
    "vxx_df = pd.read_csv('vxx.csv')\n",
    "qqq_df = pd.read_csv('qqq.csv')\n",
    "iwm_df = pd.read_csv('iwm.csv')"
   ]
  },
  {
   "cell_type": "code",
   "execution_count": 56,
   "metadata": {},
   "outputs": [
    {
     "data": {
      "text/html": [
       "<div>\n",
       "<style scoped>\n",
       "    .dataframe tbody tr th:only-of-type {\n",
       "        vertical-align: middle;\n",
       "    }\n",
       "\n",
       "    .dataframe tbody tr th {\n",
       "        vertical-align: top;\n",
       "    }\n",
       "\n",
       "    .dataframe thead th {\n",
       "        text-align: right;\n",
       "    }\n",
       "</style>\n",
       "<table border=\"1\" class=\"dataframe\">\n",
       "  <thead>\n",
       "    <tr style=\"text-align: right;\">\n",
       "      <th></th>\n",
       "      <th>Date</th>\n",
       "      <th>Adj Close</th>\n",
       "      <th>Volume</th>\n",
       "    </tr>\n",
       "  </thead>\n",
       "  <tbody>\n",
       "    <tr>\n",
       "      <td>0</td>\n",
       "      <td>2020-04-29</td>\n",
       "      <td>293.209991</td>\n",
       "      <td>118745600</td>\n",
       "    </tr>\n",
       "    <tr>\n",
       "      <td>1</td>\n",
       "      <td>2020-04-28</td>\n",
       "      <td>285.730011</td>\n",
       "      <td>105270000</td>\n",
       "    </tr>\n",
       "    <tr>\n",
       "      <td>2</td>\n",
       "      <td>2020-04-27</td>\n",
       "      <td>287.049988</td>\n",
       "      <td>77896600</td>\n",
       "    </tr>\n",
       "    <tr>\n",
       "      <td>3</td>\n",
       "      <td>2020-04-24</td>\n",
       "      <td>282.970001</td>\n",
       "      <td>85166000</td>\n",
       "    </tr>\n",
       "    <tr>\n",
       "      <td>4</td>\n",
       "      <td>2020-04-23</td>\n",
       "      <td>279.079987</td>\n",
       "      <td>104709700</td>\n",
       "    </tr>\n",
       "  </tbody>\n",
       "</table>\n",
       "</div>"
      ],
      "text/plain": [
       "         Date   Adj Close     Volume\n",
       "0  2020-04-29  293.209991  118745600\n",
       "1  2020-04-28  285.730011  105270000\n",
       "2  2020-04-27  287.049988   77896600\n",
       "3  2020-04-24  282.970001   85166000\n",
       "4  2020-04-23  279.079987  104709700"
      ]
     },
     "execution_count": 56,
     "metadata": {},
     "output_type": "execute_result"
    }
   ],
   "source": [
    "spy_df.head()"
   ]
  },
  {
   "cell_type": "code",
   "execution_count": 57,
   "metadata": {},
   "outputs": [],
   "source": [
    "spy_df.set_index('Date', inplace=True)"
   ]
  },
  {
   "cell_type": "code",
   "execution_count": 60,
   "metadata": {},
   "outputs": [
    {
     "data": {
      "text/plain": [
       "Adj Close    0\n",
       "Volume       0\n",
       "dtype: int64"
      ]
     },
     "execution_count": 60,
     "metadata": {},
     "output_type": "execute_result"
    }
   ],
   "source": [
    "spy_df.isna().sum()"
   ]
  },
  {
   "cell_type": "code",
   "execution_count": null,
   "metadata": {},
   "outputs": [],
   "source": []
  }
 ],
 "metadata": {
  "kernelspec": {
   "display_name": "Python 3",
   "language": "python",
   "name": "python3"
  },
  "language_info": {
   "codemirror_mode": {
    "name": "ipython",
    "version": 3
   },
   "file_extension": ".py",
   "mimetype": "text/x-python",
   "name": "python",
   "nbconvert_exporter": "python",
   "pygments_lexer": "ipython3",
   "version": "3.7.4"
  },
  "toc": {
   "base_numbering": 1,
   "nav_menu": {},
   "number_sections": true,
   "sideBar": true,
   "skip_h1_title": false,
   "title_cell": "Table of Contents",
   "title_sidebar": "Contents",
   "toc_cell": false,
   "toc_position": {},
   "toc_section_display": true,
   "toc_window_display": false
  }
 },
 "nbformat": 4,
 "nbformat_minor": 2
}

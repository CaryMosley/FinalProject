{
 "cells": [
  {
   "cell_type": "markdown",
   "metadata": {},
   "source": [
    "# Capstone Project- Data Collection Workbook\n",
    "Cary Mosley, May 2020\n",
    "\n",
    "## Import Libraries"
   ]
  },
  {
   "cell_type": "code",
   "execution_count": 1,
   "metadata": {},
   "outputs": [],
   "source": [
    "import pandas as pd\n",
    "import calendar, time\n",
    "import datetime as dt\n",
    "from datetime import date\n",
    "import praw\n",
    "import requests\n",
    "from requests import get\n",
    "import json\n",
    "import quandl\n",
    "\n",
    "\n",
    "\n",
    "\n"
   ]
  },
  {
   "cell_type": "markdown",
   "metadata": {},
   "source": [
    "## Collect Data"
   ]
  },
  {
   "cell_type": "code",
   "execution_count": 2,
   "metadata": {},
   "outputs": [],
   "source": [
    "#Set date window to collect data\n",
    "\n",
    "#Stock data interval\n",
    "interval='1d'\n",
    "\n",
    "#Set dates in YYYY-MM-DD format\n",
    "end_date = '2020-04-30'\n",
    "start_date = '2004-12-31'\n",
    "\n",
    "\n",
    "#Stock Tickers\n",
    "tickers = ['SPY','%5EVIX','VXX','IWM','QQQ']"
   ]
  },
  {
   "cell_type": "markdown",
   "metadata": {},
   "source": [
    "### Collect historical stock data from Yahoo Finance"
   ]
  },
  {
   "cell_type": "code",
   "execution_count": 45,
   "metadata": {},
   "outputs": [],
   "source": [
    "#Get Historical StockData From Yahoo Finance\n",
    "def StockData(ticker, start_date, end_date = date.today(), interval = '1d'):\n",
    "    start_date_epoch = calendar.timegm(time.strptime(str(start_date), '%Y-%m-%d'))\n",
    "    end_date_epoch = calendar.timegm(time.strptime(str(end_date), '%Y-%m-%d'))\n",
    "    url = 'https://query1.finance.yahoo.com/v7/finance/download/' + ticker\n",
    "    url = url + '?period1=' + str(start_date_epoch) + '&period2=' + str(end_date_epoch)\n",
    "    url = url + '&interval=' + interval + '&events=history'\n",
    "    df = pd.read_csv(url)\n",
    "    df.sort_values(by=['Date'],ascending=False,inplace=True)\n",
    "    df.set_index('Date', inplace=True)\n",
    "    columns_to_drop = ['Open','High','Low','Close','Volume']\n",
    "    df.drop(columns=columns_to_drop,inplace=True)\n",
    "    return df"
   ]
  },
  {
   "cell_type": "code",
   "execution_count": 46,
   "metadata": {},
   "outputs": [],
   "source": [
    "#Create and export SPY prices\n",
    "ticker=tickers[0]\n",
    "\n",
    "spy_df = StockData(ticker, start_date, end_date, interval)\n",
    "spy_df.head()\n",
    "spy_df.to_csv('spy.csv')\n"
   ]
  },
  {
   "cell_type": "code",
   "execution_count": 47,
   "metadata": {},
   "outputs": [],
   "source": [
    "#Create and export VIX prices\n",
    "ticker=tickers[1]\n",
    "\n",
    "vix_df = StockData(ticker, start_date, end_date, interval)\n",
    "vix_df.head()\n",
    "vix_df.to_csv('vix.csv')"
   ]
  },
  {
   "cell_type": "code",
   "execution_count": 48,
   "metadata": {},
   "outputs": [],
   "source": [
    "#Create and export VXX prices\n",
    "ticker=tickers[2]\n",
    "\n",
    "vxx_df = StockData(ticker, start_date, end_date, interval)\n",
    "vxx_df.head()\n",
    "vxx_df.to_csv('vxx.csv')"
   ]
  },
  {
   "cell_type": "code",
   "execution_count": 49,
   "metadata": {},
   "outputs": [],
   "source": [
    "#Create and export IWM prices\n",
    "ticker=tickers[3]\n",
    "\n",
    "iwm_df = StockData(ticker, start_date, end_date, interval)\n",
    "iwm_df.head()\n",
    "iwm_df.to_csv('iwm.csv')"
   ]
  },
  {
   "cell_type": "code",
   "execution_count": 50,
   "metadata": {},
   "outputs": [],
   "source": [
    "#Create and export QQQ prices\n",
    "ticker=tickers[4]\n",
    "\n",
    "qqq_df = StockData(ticker, start_date, end_date, interval)\n",
    "qqq_df.head()\n",
    "qqq_df.to_csv('qqq.csv')"
   ]
  },
  {
   "cell_type": "markdown",
   "metadata": {},
   "source": [
    "### Scrape reddit submissions\n",
    "This section was not used for the final project"
   ]
  },
  {
   "cell_type": "code",
   "execution_count": 29,
   "metadata": {},
   "outputs": [],
   "source": [
    "#Use PRAW to perform API pull\n",
    "with open('reddit.json') as f:\n",
    "    reddit_keys= json.load(f)\n",
    "\n",
    "reddit = praw.Reddit(client_id = reddit_keys['client_id'], client_secret = reddit_keys['client_secret'], \n",
    "                     password = reddit_keys['password'], user_agent = reddit_keys['user_agent'],\n",
    "                     username = reddit_keys['username'])\n"
   ]
  },
  {
   "cell_type": "code",
   "execution_count": 30,
   "metadata": {},
   "outputs": [],
   "source": [
    "#Choose subreddit\n",
    "subreddit = 'WallStreetBets'\n",
    "#Use praw to collect data\n",
    "top_posts = reddit.subreddit(subreddit).top(limit=500)\n",
    "#create dictionary of elements that are returned\n",
    "topics_dict = { \"title\":[], \n",
    "                \"score\":[], \n",
    "                \"id\":[], \"url\":[],  \n",
    "                \"comms_num\": [], \n",
    "                \"created\": [], \n",
    "                \"body\":[]}\n",
    "\n",
    "#create dataframe from the praw data\n",
    "for post in top_posts:\n",
    "    topics_dict[\"title\"].append(post.title)\n",
    "    topics_dict[\"score\"].append(post.score)\n",
    "    topics_dict[\"id\"].append(post.id)\n",
    "    topics_dict[\"url\"].append(post.url)\n",
    "    topics_dict[\"comms_num\"].append(post.num_comments)\n",
    "    topics_dict[\"created\"].append(post.created)\n",
    "    topics_dict[\"body\"].append(post.selftext)\n",
    "topics_data = pd.DataFrame(topics_dict)"
   ]
  },
  {
   "cell_type": "code",
   "execution_count": 31,
   "metadata": {},
   "outputs": [
    {
     "data": {
      "text/html": [
       "<div>\n",
       "<style scoped>\n",
       "    .dataframe tbody tr th:only-of-type {\n",
       "        vertical-align: middle;\n",
       "    }\n",
       "\n",
       "    .dataframe tbody tr th {\n",
       "        vertical-align: top;\n",
       "    }\n",
       "\n",
       "    .dataframe thead th {\n",
       "        text-align: right;\n",
       "    }\n",
       "</style>\n",
       "<table border=\"1\" class=\"dataframe\">\n",
       "  <thead>\n",
       "    <tr style=\"text-align: right;\">\n",
       "      <th></th>\n",
       "      <th>title</th>\n",
       "      <th>score</th>\n",
       "      <th>id</th>\n",
       "      <th>url</th>\n",
       "      <th>comms_num</th>\n",
       "      <th>created</th>\n",
       "      <th>body</th>\n",
       "    </tr>\n",
       "  </thead>\n",
       "  <tbody>\n",
       "    <tr>\n",
       "      <td>0</td>\n",
       "      <td>Elon has transcended time, space, and county r...</td>\n",
       "      <td>69256</td>\n",
       "      <td>ghw12u</td>\n",
       "      <td>https://i.redd.it/frcjfc2967y41.jpg</td>\n",
       "      <td>4941</td>\n",
       "      <td>1.589258e+09</td>\n",
       "      <td></td>\n",
       "    </tr>\n",
       "    <tr>\n",
       "      <td>1</td>\n",
       "      <td>How to get oil back up</td>\n",
       "      <td>58582</td>\n",
       "      <td>g55or2</td>\n",
       "      <td>https://i.redd.it/w5iqqihjo2u41.jpg</td>\n",
       "      <td>548</td>\n",
       "      <td>1.587461e+09</td>\n",
       "      <td></td>\n",
       "    </tr>\n",
       "    <tr>\n",
       "      <td>2</td>\n",
       "      <td>All In The War Machine</td>\n",
       "      <td>55123</td>\n",
       "      <td>eld4i6</td>\n",
       "      <td>https://i.redd.it/cj2vw26nmd941.jpg</td>\n",
       "      <td>784</td>\n",
       "      <td>1.578440e+09</td>\n",
       "      <td></td>\n",
       "    </tr>\n",
       "    <tr>\n",
       "      <td>3</td>\n",
       "      <td>Type yy into google.</td>\n",
       "      <td>52812</td>\n",
       "      <td>c75d5x</td>\n",
       "      <td>https://www.reddit.com/r/wallstreetbets/commen...</td>\n",
       "      <td>17263</td>\n",
       "      <td>1.561875e+09</td>\n",
       "      <td>That’s all I’m saying.</td>\n",
       "    </tr>\n",
       "    <tr>\n",
       "      <td>4</td>\n",
       "      <td>Oil is now expenzive</td>\n",
       "      <td>49777</td>\n",
       "      <td>d51f4o</td>\n",
       "      <td>https://i.redd.it/2j386s5iuym31.png</td>\n",
       "      <td>1018</td>\n",
       "      <td>1.568673e+09</td>\n",
       "      <td></td>\n",
       "    </tr>\n",
       "  </tbody>\n",
       "</table>\n",
       "</div>"
      ],
      "text/plain": [
       "                                               title  score      id  \\\n",
       "0  Elon has transcended time, space, and county r...  69256  ghw12u   \n",
       "1                             How to get oil back up  58582  g55or2   \n",
       "2                             All In The War Machine  55123  eld4i6   \n",
       "3                               Type yy into google.  52812  c75d5x   \n",
       "4                               Oil is now expenzive  49777  d51f4o   \n",
       "\n",
       "                                                 url  comms_num       created  \\\n",
       "0                https://i.redd.it/frcjfc2967y41.jpg       4941  1.589258e+09   \n",
       "1                https://i.redd.it/w5iqqihjo2u41.jpg        548  1.587461e+09   \n",
       "2                https://i.redd.it/cj2vw26nmd941.jpg        784  1.578440e+09   \n",
       "3  https://www.reddit.com/r/wallstreetbets/commen...      17263  1.561875e+09   \n",
       "4                https://i.redd.it/2j386s5iuym31.png       1018  1.568673e+09   \n",
       "\n",
       "                     body  \n",
       "0                          \n",
       "1                          \n",
       "2                          \n",
       "3  That’s all I’m saying.  \n",
       "4                          "
      ]
     },
     "execution_count": 31,
     "metadata": {},
     "output_type": "execute_result"
    }
   ],
   "source": [
    "topics_data.head()"
   ]
  },
  {
   "cell_type": "code",
   "execution_count": 32,
   "metadata": {},
   "outputs": [],
   "source": [
    "#Convert created to date-time\n",
    "topics_data['created'] = topics_data[\"created\"].apply(lambda x: dt.datetime.fromtimestamp(x))"
   ]
  },
  {
   "cell_type": "code",
   "execution_count": 33,
   "metadata": {},
   "outputs": [
    {
     "data": {
      "text/html": [
       "<div>\n",
       "<style scoped>\n",
       "    .dataframe tbody tr th:only-of-type {\n",
       "        vertical-align: middle;\n",
       "    }\n",
       "\n",
       "    .dataframe tbody tr th {\n",
       "        vertical-align: top;\n",
       "    }\n",
       "\n",
       "    .dataframe thead th {\n",
       "        text-align: right;\n",
       "    }\n",
       "</style>\n",
       "<table border=\"1\" class=\"dataframe\">\n",
       "  <thead>\n",
       "    <tr style=\"text-align: right;\">\n",
       "      <th></th>\n",
       "      <th>title</th>\n",
       "      <th>score</th>\n",
       "      <th>id</th>\n",
       "      <th>url</th>\n",
       "      <th>comms_num</th>\n",
       "      <th>created</th>\n",
       "      <th>body</th>\n",
       "    </tr>\n",
       "  </thead>\n",
       "  <tbody>\n",
       "    <tr>\n",
       "      <td>0</td>\n",
       "      <td>Elon has transcended time, space, and county r...</td>\n",
       "      <td>69256</td>\n",
       "      <td>ghw12u</td>\n",
       "      <td>https://i.redd.it/frcjfc2967y41.jpg</td>\n",
       "      <td>4941</td>\n",
       "      <td>2020-05-12 00:41:17</td>\n",
       "      <td></td>\n",
       "    </tr>\n",
       "    <tr>\n",
       "      <td>1</td>\n",
       "      <td>How to get oil back up</td>\n",
       "      <td>58582</td>\n",
       "      <td>g55or2</td>\n",
       "      <td>https://i.redd.it/w5iqqihjo2u41.jpg</td>\n",
       "      <td>548</td>\n",
       "      <td>2020-04-21 05:18:21</td>\n",
       "      <td></td>\n",
       "    </tr>\n",
       "    <tr>\n",
       "      <td>2</td>\n",
       "      <td>All In The War Machine</td>\n",
       "      <td>55123</td>\n",
       "      <td>eld4i6</td>\n",
       "      <td>https://i.redd.it/cj2vw26nmd941.jpg</td>\n",
       "      <td>784</td>\n",
       "      <td>2020-01-07 18:40:30</td>\n",
       "      <td></td>\n",
       "    </tr>\n",
       "    <tr>\n",
       "      <td>3</td>\n",
       "      <td>Type yy into google.</td>\n",
       "      <td>52812</td>\n",
       "      <td>c75d5x</td>\n",
       "      <td>https://www.reddit.com/r/wallstreetbets/commen...</td>\n",
       "      <td>17263</td>\n",
       "      <td>2019-06-30 02:14:57</td>\n",
       "      <td>That’s all I’m saying.</td>\n",
       "    </tr>\n",
       "    <tr>\n",
       "      <td>4</td>\n",
       "      <td>Oil is now expenzive</td>\n",
       "      <td>49777</td>\n",
       "      <td>d51f4o</td>\n",
       "      <td>https://i.redd.it/2j386s5iuym31.png</td>\n",
       "      <td>1018</td>\n",
       "      <td>2019-09-16 18:28:12</td>\n",
       "      <td></td>\n",
       "    </tr>\n",
       "  </tbody>\n",
       "</table>\n",
       "</div>"
      ],
      "text/plain": [
       "                                               title  score      id  \\\n",
       "0  Elon has transcended time, space, and county r...  69256  ghw12u   \n",
       "1                             How to get oil back up  58582  g55or2   \n",
       "2                             All In The War Machine  55123  eld4i6   \n",
       "3                               Type yy into google.  52812  c75d5x   \n",
       "4                               Oil is now expenzive  49777  d51f4o   \n",
       "\n",
       "                                                 url  comms_num  \\\n",
       "0                https://i.redd.it/frcjfc2967y41.jpg       4941   \n",
       "1                https://i.redd.it/w5iqqihjo2u41.jpg        548   \n",
       "2                https://i.redd.it/cj2vw26nmd941.jpg        784   \n",
       "3  https://www.reddit.com/r/wallstreetbets/commen...      17263   \n",
       "4                https://i.redd.it/2j386s5iuym31.png       1018   \n",
       "\n",
       "              created                    body  \n",
       "0 2020-05-12 00:41:17                          \n",
       "1 2020-04-21 05:18:21                          \n",
       "2 2020-01-07 18:40:30                          \n",
       "3 2019-06-30 02:14:57  That’s all I’m saying.  \n",
       "4 2019-09-16 18:28:12                          "
      ]
     },
     "execution_count": 33,
     "metadata": {},
     "output_type": "execute_result"
    }
   ],
   "source": [
    "topics_data.head()"
   ]
  },
  {
   "cell_type": "markdown",
   "metadata": {},
   "source": [
    "### Use Quandl API to scrape data"
   ]
  },
  {
   "cell_type": "code",
   "execution_count": 34,
   "metadata": {},
   "outputs": [],
   "source": [
    "#Import quandl API key\n",
    "with open('quandl.json') as f:\n",
    "    quandl_keys= json.load(f)\n",
    "quandl.ApiConfig.api_key = quandl_keys['api_key']"
   ]
  },
  {
   "cell_type": "markdown",
   "metadata": {},
   "source": [
    "#### American Association of Individual Investor’s sentiment data"
   ]
  },
  {
   "cell_type": "code",
   "execution_count": 37,
   "metadata": {},
   "outputs": [],
   "source": [
    "#AAII Data API Pull from Quandl\n",
    "AAII_data = 'AAII/AAII_SENTIMENT'\n",
    "AAII_sentiment_df = quandl.get(AAII_data, start_date=start_date, end_date=end_date)"
   ]
  },
  {
   "cell_type": "code",
   "execution_count": 39,
   "metadata": {},
   "outputs": [
    {
     "data": {
      "text/html": [
       "<div>\n",
       "<style scoped>\n",
       "    .dataframe tbody tr th:only-of-type {\n",
       "        vertical-align: middle;\n",
       "    }\n",
       "\n",
       "    .dataframe tbody tr th {\n",
       "        vertical-align: top;\n",
       "    }\n",
       "\n",
       "    .dataframe thead th {\n",
       "        text-align: right;\n",
       "    }\n",
       "</style>\n",
       "<table border=\"1\" class=\"dataframe\">\n",
       "  <thead>\n",
       "    <tr style=\"text-align: right;\">\n",
       "      <th></th>\n",
       "      <th>Bullish</th>\n",
       "      <th>Neutral</th>\n",
       "      <th>Bearish</th>\n",
       "      <th>Total</th>\n",
       "      <th>Bullish 8-Week Mov Avg</th>\n",
       "      <th>Bull-Bear Spread</th>\n",
       "      <th>Bullish Average</th>\n",
       "      <th>Bullish Average + St. Dev</th>\n",
       "      <th>Bullish Average - St. Dev</th>\n",
       "      <th>S&amp;P 500 Weekly High</th>\n",
       "      <th>S&amp;P 500 Weekly Low</th>\n",
       "      <th>S&amp;P 500 Weekly Close</th>\n",
       "    </tr>\n",
       "    <tr>\n",
       "      <th>Date</th>\n",
       "      <th></th>\n",
       "      <th></th>\n",
       "      <th></th>\n",
       "      <th></th>\n",
       "      <th></th>\n",
       "      <th></th>\n",
       "      <th></th>\n",
       "      <th></th>\n",
       "      <th></th>\n",
       "      <th></th>\n",
       "      <th></th>\n",
       "      <th></th>\n",
       "    </tr>\n",
       "  </thead>\n",
       "  <tbody>\n",
       "    <tr>\n",
       "      <td>2005-01-06</td>\n",
       "      <td>0.3810</td>\n",
       "      <td>0.2738</td>\n",
       "      <td>0.3452</td>\n",
       "      <td>1.0000</td>\n",
       "      <td>0.537763</td>\n",
       "      <td>0.0358</td>\n",
       "      <td>0.384907</td>\n",
       "      <td>0.488293</td>\n",
       "      <td>0.281522</td>\n",
       "      <td>1217.80</td>\n",
       "      <td>1183.72</td>\n",
       "      <td>1183.74</td>\n",
       "    </tr>\n",
       "    <tr>\n",
       "      <td>2005-01-13</td>\n",
       "      <td>0.3399</td>\n",
       "      <td>0.2614</td>\n",
       "      <td>0.3987</td>\n",
       "      <td>1.0000</td>\n",
       "      <td>0.500125</td>\n",
       "      <td>-0.0588</td>\n",
       "      <td>0.384907</td>\n",
       "      <td>0.488293</td>\n",
       "      <td>0.281522</td>\n",
       "      <td>1194.78</td>\n",
       "      <td>1175.64</td>\n",
       "      <td>1184.52</td>\n",
       "    </tr>\n",
       "    <tr>\n",
       "      <td>2005-01-20</td>\n",
       "      <td>0.3366</td>\n",
       "      <td>0.3267</td>\n",
       "      <td>0.3366</td>\n",
       "      <td>0.9999</td>\n",
       "      <td>0.480350</td>\n",
       "      <td>0.0000</td>\n",
       "      <td>0.384907</td>\n",
       "      <td>0.488293</td>\n",
       "      <td>0.281522</td>\n",
       "      <td>1195.98</td>\n",
       "      <td>1180.10</td>\n",
       "      <td>1184.52</td>\n",
       "    </tr>\n",
       "    <tr>\n",
       "      <td>2005-01-27</td>\n",
       "      <td>0.2643</td>\n",
       "      <td>0.3714</td>\n",
       "      <td>0.3643</td>\n",
       "      <td>1.0000</td>\n",
       "      <td>0.442437</td>\n",
       "      <td>-0.1000</td>\n",
       "      <td>0.384907</td>\n",
       "      <td>0.488293</td>\n",
       "      <td>0.281522</td>\n",
       "      <td>1175.96</td>\n",
       "      <td>1163.75</td>\n",
       "      <td>1174.07</td>\n",
       "    </tr>\n",
       "    <tr>\n",
       "      <td>2005-02-03</td>\n",
       "      <td>0.4167</td>\n",
       "      <td>0.3333</td>\n",
       "      <td>0.2500</td>\n",
       "      <td>1.0000</td>\n",
       "      <td>0.430337</td>\n",
       "      <td>0.1667</td>\n",
       "      <td>0.384907</td>\n",
       "      <td>0.488293</td>\n",
       "      <td>0.281522</td>\n",
       "      <td>1195.25</td>\n",
       "      <td>1171.36</td>\n",
       "      <td>1193.19</td>\n",
       "    </tr>\n",
       "  </tbody>\n",
       "</table>\n",
       "</div>"
      ],
      "text/plain": [
       "            Bullish  Neutral  Bearish   Total  Bullish 8-Week Mov Avg  \\\n",
       "Date                                                                    \n",
       "2005-01-06   0.3810   0.2738   0.3452  1.0000                0.537763   \n",
       "2005-01-13   0.3399   0.2614   0.3987  1.0000                0.500125   \n",
       "2005-01-20   0.3366   0.3267   0.3366  0.9999                0.480350   \n",
       "2005-01-27   0.2643   0.3714   0.3643  1.0000                0.442437   \n",
       "2005-02-03   0.4167   0.3333   0.2500  1.0000                0.430337   \n",
       "\n",
       "            Bull-Bear Spread  Bullish Average  Bullish Average + St. Dev  \\\n",
       "Date                                                                       \n",
       "2005-01-06            0.0358         0.384907                   0.488293   \n",
       "2005-01-13           -0.0588         0.384907                   0.488293   \n",
       "2005-01-20            0.0000         0.384907                   0.488293   \n",
       "2005-01-27           -0.1000         0.384907                   0.488293   \n",
       "2005-02-03            0.1667         0.384907                   0.488293   \n",
       "\n",
       "            Bullish Average - St. Dev  S&P 500 Weekly High  \\\n",
       "Date                                                         \n",
       "2005-01-06                   0.281522              1217.80   \n",
       "2005-01-13                   0.281522              1194.78   \n",
       "2005-01-20                   0.281522              1195.98   \n",
       "2005-01-27                   0.281522              1175.96   \n",
       "2005-02-03                   0.281522              1195.25   \n",
       "\n",
       "            S&P 500 Weekly Low  S&P 500 Weekly Close  \n",
       "Date                                                  \n",
       "2005-01-06             1183.72               1183.74  \n",
       "2005-01-13             1175.64               1184.52  \n",
       "2005-01-20             1180.10               1184.52  \n",
       "2005-01-27             1163.75               1174.07  \n",
       "2005-02-03             1171.36               1193.19  "
      ]
     },
     "execution_count": 39,
     "metadata": {},
     "output_type": "execute_result"
    }
   ],
   "source": [
    "\n",
    "AAII_sentiment_df.head()\n"
   ]
  },
  {
   "cell_type": "code",
   "execution_count": 40,
   "metadata": {},
   "outputs": [
    {
     "data": {
      "text/plain": [
       "Index(['Bullish', 'Neutral', 'Bearish', 'Total', 'Bullish 8-Week Mov Avg',\n",
       "       'Bull-Bear Spread', 'Bullish Average', 'Bullish Average + St. Dev',\n",
       "       'Bullish Average - St. Dev', 'S&P 500 Weekly High',\n",
       "       'S&P 500 Weekly Low', 'S&P 500 Weekly Close'],\n",
       "      dtype='object')"
      ]
     },
     "execution_count": 40,
     "metadata": {},
     "output_type": "execute_result"
    }
   ],
   "source": [
    "AAII_sentiment_df.columns"
   ]
  },
  {
   "cell_type": "code",
   "execution_count": 41,
   "metadata": {},
   "outputs": [],
   "source": [
    "#Drop Columns\n",
    "drop_columns = ['Total', 'Bullish Average','Bullish 8-Week Mov Avg', 'Bullish Average + St. Dev',\n",
    "       'Bullish Average - St. Dev','S&P 500 Weekly High','S&P 500 Weekly Low','S&P 500 Weekly Close']"
   ]
  },
  {
   "cell_type": "code",
   "execution_count": 42,
   "metadata": {},
   "outputs": [],
   "source": [
    "AAII_sentiment_df.drop(columns=drop_columns,inplace=True)"
   ]
  },
  {
   "cell_type": "code",
   "execution_count": 51,
   "metadata": {},
   "outputs": [
    {
     "data": {
      "text/html": [
       "<div>\n",
       "<style scoped>\n",
       "    .dataframe tbody tr th:only-of-type {\n",
       "        vertical-align: middle;\n",
       "    }\n",
       "\n",
       "    .dataframe tbody tr th {\n",
       "        vertical-align: top;\n",
       "    }\n",
       "\n",
       "    .dataframe thead th {\n",
       "        text-align: right;\n",
       "    }\n",
       "</style>\n",
       "<table border=\"1\" class=\"dataframe\">\n",
       "  <thead>\n",
       "    <tr style=\"text-align: right;\">\n",
       "      <th></th>\n",
       "      <th>Bullish</th>\n",
       "      <th>Neutral</th>\n",
       "      <th>Bearish</th>\n",
       "      <th>Bull-Bear Spread</th>\n",
       "    </tr>\n",
       "    <tr>\n",
       "      <th>Date</th>\n",
       "      <th></th>\n",
       "      <th></th>\n",
       "      <th></th>\n",
       "      <th></th>\n",
       "    </tr>\n",
       "  </thead>\n",
       "  <tbody>\n",
       "    <tr>\n",
       "      <td>2005-01-06</td>\n",
       "      <td>0.3810</td>\n",
       "      <td>0.2738</td>\n",
       "      <td>0.3452</td>\n",
       "      <td>0.0358</td>\n",
       "    </tr>\n",
       "    <tr>\n",
       "      <td>2005-01-13</td>\n",
       "      <td>0.3399</td>\n",
       "      <td>0.2614</td>\n",
       "      <td>0.3987</td>\n",
       "      <td>-0.0588</td>\n",
       "    </tr>\n",
       "    <tr>\n",
       "      <td>2005-01-20</td>\n",
       "      <td>0.3366</td>\n",
       "      <td>0.3267</td>\n",
       "      <td>0.3366</td>\n",
       "      <td>0.0000</td>\n",
       "    </tr>\n",
       "    <tr>\n",
       "      <td>2005-01-27</td>\n",
       "      <td>0.2643</td>\n",
       "      <td>0.3714</td>\n",
       "      <td>0.3643</td>\n",
       "      <td>-0.1000</td>\n",
       "    </tr>\n",
       "    <tr>\n",
       "      <td>2005-02-03</td>\n",
       "      <td>0.4167</td>\n",
       "      <td>0.3333</td>\n",
       "      <td>0.2500</td>\n",
       "      <td>0.1667</td>\n",
       "    </tr>\n",
       "  </tbody>\n",
       "</table>\n",
       "</div>"
      ],
      "text/plain": [
       "            Bullish  Neutral  Bearish  Bull-Bear Spread\n",
       "Date                                                   \n",
       "2005-01-06   0.3810   0.2738   0.3452            0.0358\n",
       "2005-01-13   0.3399   0.2614   0.3987           -0.0588\n",
       "2005-01-20   0.3366   0.3267   0.3366            0.0000\n",
       "2005-01-27   0.2643   0.3714   0.3643           -0.1000\n",
       "2005-02-03   0.4167   0.3333   0.2500            0.1667"
      ]
     },
     "execution_count": 51,
     "metadata": {},
     "output_type": "execute_result"
    }
   ],
   "source": [
    "AAII_sentiment_df.head()"
   ]
  },
  {
   "cell_type": "code",
   "execution_count": 52,
   "metadata": {},
   "outputs": [],
   "source": [
    "#Export to CSV\n",
    "AAII_sentiment_df.to_csv('AAII.csv')"
   ]
  },
  {
   "cell_type": "markdown",
   "metadata": {},
   "source": [
    "#### FINRA Short Interest By Security \n",
    "This was not used for the final project"
   ]
  },
  {
   "cell_type": "code",
   "execution_count": 71,
   "metadata": {},
   "outputs": [],
   "source": [
    "#Get Finra Data \n",
    "def finra_data(ticker,start_date, end_date = date.today(), exchange='NYSE'):\n",
    "    finra_short = 'FINRA/FN'\n",
    "    finra_dict = {'NYSE': 'YX','NASDAQ':'SQ'}\n",
    "    if exchange == 'NYSE':\n",
    "        finra_call = finra_short + 'YX_' + ticker\n",
    "        print(finra_call)\n",
    "        return quandl.get(finra_call, start_date=start_date, end_date=end_date)\n",
    "    elif exchange == 'NASDAQ':\n",
    "        finra_call = finra_short + 'SQ_' + ticker\n",
    "        print(finra_call)\n",
    "        return quandl.get(finra_call, start_date=start_date, end_date=end_date)\n",
    "    else:\n",
    "        print('error')\n",
    "        return 'error'\n",
    "    return"
   ]
  },
  {
   "cell_type": "code",
   "execution_count": 72,
   "metadata": {},
   "outputs": [
    {
     "name": "stdout",
     "output_type": "stream",
     "text": [
      "FINRA/FNYX_SPY\n"
     ]
    }
   ],
   "source": [
    "exchange = 'NYSE'\n",
    "short_df = finra_data(ticker,start_date,end_date,exchange)"
   ]
  },
  {
   "cell_type": "code",
   "execution_count": 73,
   "metadata": {},
   "outputs": [
    {
     "data": {
      "text/html": [
       "<div>\n",
       "<style scoped>\n",
       "    .dataframe tbody tr th:only-of-type {\n",
       "        vertical-align: middle;\n",
       "    }\n",
       "\n",
       "    .dataframe tbody tr th {\n",
       "        vertical-align: top;\n",
       "    }\n",
       "\n",
       "    .dataframe thead th {\n",
       "        text-align: right;\n",
       "    }\n",
       "</style>\n",
       "<table border=\"1\" class=\"dataframe\">\n",
       "  <thead>\n",
       "    <tr style=\"text-align: right;\">\n",
       "      <th></th>\n",
       "      <th>ShortVolume</th>\n",
       "      <th>ShortExemptVolume</th>\n",
       "      <th>TotalVolume</th>\n",
       "    </tr>\n",
       "    <tr>\n",
       "      <th>Date</th>\n",
       "      <th></th>\n",
       "      <th></th>\n",
       "      <th></th>\n",
       "    </tr>\n",
       "  </thead>\n",
       "  <tbody>\n",
       "    <tr>\n",
       "      <td>2015-05-12</td>\n",
       "      <td>2111990.0</td>\n",
       "      <td>0.0</td>\n",
       "      <td>2681572.0</td>\n",
       "    </tr>\n",
       "    <tr>\n",
       "      <td>2015-05-13</td>\n",
       "      <td>1278698.0</td>\n",
       "      <td>0.0</td>\n",
       "      <td>1830248.0</td>\n",
       "    </tr>\n",
       "    <tr>\n",
       "      <td>2015-05-14</td>\n",
       "      <td>1235013.0</td>\n",
       "      <td>0.0</td>\n",
       "      <td>1652625.0</td>\n",
       "    </tr>\n",
       "    <tr>\n",
       "      <td>2015-05-15</td>\n",
       "      <td>1269385.0</td>\n",
       "      <td>0.0</td>\n",
       "      <td>1967962.0</td>\n",
       "    </tr>\n",
       "    <tr>\n",
       "      <td>2015-05-18</td>\n",
       "      <td>846827.0</td>\n",
       "      <td>0.0</td>\n",
       "      <td>1309836.0</td>\n",
       "    </tr>\n",
       "    <tr>\n",
       "      <td>...</td>\n",
       "      <td>...</td>\n",
       "      <td>...</td>\n",
       "      <td>...</td>\n",
       "    </tr>\n",
       "    <tr>\n",
       "      <td>2020-05-05</td>\n",
       "      <td>2980150.0</td>\n",
       "      <td>10.0</td>\n",
       "      <td>5148326.0</td>\n",
       "    </tr>\n",
       "    <tr>\n",
       "      <td>2020-05-06</td>\n",
       "      <td>3298070.0</td>\n",
       "      <td>255.0</td>\n",
       "      <td>4846833.0</td>\n",
       "    </tr>\n",
       "    <tr>\n",
       "      <td>2020-05-07</td>\n",
       "      <td>3652096.0</td>\n",
       "      <td>0.0</td>\n",
       "      <td>5451842.0</td>\n",
       "    </tr>\n",
       "    <tr>\n",
       "      <td>2020-05-08</td>\n",
       "      <td>2872024.0</td>\n",
       "      <td>0.0</td>\n",
       "      <td>4007267.0</td>\n",
       "    </tr>\n",
       "    <tr>\n",
       "      <td>2020-05-11</td>\n",
       "      <td>2399732.0</td>\n",
       "      <td>0.0</td>\n",
       "      <td>4243213.0</td>\n",
       "    </tr>\n",
       "  </tbody>\n",
       "</table>\n",
       "<p>1254 rows × 3 columns</p>\n",
       "</div>"
      ],
      "text/plain": [
       "            ShortVolume  ShortExemptVolume  TotalVolume\n",
       "Date                                                   \n",
       "2015-05-12    2111990.0                0.0    2681572.0\n",
       "2015-05-13    1278698.0                0.0    1830248.0\n",
       "2015-05-14    1235013.0                0.0    1652625.0\n",
       "2015-05-15    1269385.0                0.0    1967962.0\n",
       "2015-05-18     846827.0                0.0    1309836.0\n",
       "...                 ...                ...          ...\n",
       "2020-05-05    2980150.0               10.0    5148326.0\n",
       "2020-05-06    3298070.0              255.0    4846833.0\n",
       "2020-05-07    3652096.0                0.0    5451842.0\n",
       "2020-05-08    2872024.0                0.0    4007267.0\n",
       "2020-05-11    2399732.0                0.0    4243213.0\n",
       "\n",
       "[1254 rows x 3 columns]"
      ]
     },
     "execution_count": 73,
     "metadata": {},
     "output_type": "execute_result"
    }
   ],
   "source": [
    "short_df"
   ]
  },
  {
   "cell_type": "markdown",
   "metadata": {},
   "source": [
    "#### NAAIM Exposure Index"
   ]
  },
  {
   "cell_type": "code",
   "execution_count": 60,
   "metadata": {},
   "outputs": [],
   "source": [
    "#NAAIM Data API Pull from Quandl\n",
    "exposure = 'NAAIM/NAAIM'\n",
    "NAAIM_exposure_df = quandl.get(exposure, start_date=start_date, end_date=end_date)\n"
   ]
  },
  {
   "cell_type": "code",
   "execution_count": 61,
   "metadata": {},
   "outputs": [
    {
     "data": {
      "text/html": [
       "<div>\n",
       "<style scoped>\n",
       "    .dataframe tbody tr th:only-of-type {\n",
       "        vertical-align: middle;\n",
       "    }\n",
       "\n",
       "    .dataframe tbody tr th {\n",
       "        vertical-align: top;\n",
       "    }\n",
       "\n",
       "    .dataframe thead th {\n",
       "        text-align: right;\n",
       "    }\n",
       "</style>\n",
       "<table border=\"1\" class=\"dataframe\">\n",
       "  <thead>\n",
       "    <tr style=\"text-align: right;\">\n",
       "      <th></th>\n",
       "      <th>Mean/Average</th>\n",
       "      <th>Most Bearish Response</th>\n",
       "      <th>Quart 1 (25% at/below)</th>\n",
       "      <th>Quart 2 (median)</th>\n",
       "      <th>Quart 3 (25% at/above)</th>\n",
       "      <th>Most Bullish Response</th>\n",
       "      <th>Standard Deviation</th>\n",
       "      <th>NAAIM Number</th>\n",
       "      <th>S&amp;P 500</th>\n",
       "    </tr>\n",
       "    <tr>\n",
       "      <th>Date</th>\n",
       "      <th></th>\n",
       "      <th></th>\n",
       "      <th></th>\n",
       "      <th></th>\n",
       "      <th></th>\n",
       "      <th></th>\n",
       "      <th></th>\n",
       "      <th></th>\n",
       "      <th></th>\n",
       "    </tr>\n",
       "  </thead>\n",
       "  <tbody>\n",
       "    <tr>\n",
       "      <td>2006-06-23</td>\n",
       "      <td>0.00</td>\n",
       "      <td>0.0</td>\n",
       "      <td>0.0</td>\n",
       "      <td>0.0</td>\n",
       "      <td>0.0</td>\n",
       "      <td>0.0</td>\n",
       "      <td>0.00</td>\n",
       "      <td>0.00</td>\n",
       "      <td>0.00</td>\n",
       "    </tr>\n",
       "    <tr>\n",
       "      <td>2006-06-30</td>\n",
       "      <td>56.33</td>\n",
       "      <td>-125.0</td>\n",
       "      <td>40.0</td>\n",
       "      <td>65.0</td>\n",
       "      <td>100.0</td>\n",
       "      <td>125.0</td>\n",
       "      <td>53.51</td>\n",
       "      <td>56.33</td>\n",
       "      <td>1326.05</td>\n",
       "    </tr>\n",
       "    <tr>\n",
       "      <td>2006-07-05</td>\n",
       "      <td>19.44</td>\n",
       "      <td>-100.0</td>\n",
       "      <td>0.0</td>\n",
       "      <td>20.0</td>\n",
       "      <td>50.0</td>\n",
       "      <td>100.0</td>\n",
       "      <td>55.55</td>\n",
       "      <td>19.44</td>\n",
       "      <td>1265.48</td>\n",
       "    </tr>\n",
       "    <tr>\n",
       "      <td>2006-07-12</td>\n",
       "      <td>31.20</td>\n",
       "      <td>-50.0</td>\n",
       "      <td>0.0</td>\n",
       "      <td>25.0</td>\n",
       "      <td>50.0</td>\n",
       "      <td>150.0</td>\n",
       "      <td>47.84</td>\n",
       "      <td>31.20</td>\n",
       "      <td>1236.20</td>\n",
       "    </tr>\n",
       "    <tr>\n",
       "      <td>2006-07-19</td>\n",
       "      <td>18.76</td>\n",
       "      <td>-100.0</td>\n",
       "      <td>0.0</td>\n",
       "      <td>25.0</td>\n",
       "      <td>50.0</td>\n",
       "      <td>100.0</td>\n",
       "      <td>38.17</td>\n",
       "      <td>18.76</td>\n",
       "      <td>1240.29</td>\n",
       "    </tr>\n",
       "  </tbody>\n",
       "</table>\n",
       "</div>"
      ],
      "text/plain": [
       "            Mean/Average  Most Bearish Response  Quart 1 (25% at/below)  \\\n",
       "Date                                                                      \n",
       "2006-06-23          0.00                    0.0                     0.0   \n",
       "2006-06-30         56.33                 -125.0                    40.0   \n",
       "2006-07-05         19.44                 -100.0                     0.0   \n",
       "2006-07-12         31.20                  -50.0                     0.0   \n",
       "2006-07-19         18.76                 -100.0                     0.0   \n",
       "\n",
       "            Quart 2 (median)  Quart 3 (25% at/above)  Most Bullish Response  \\\n",
       "Date                                                                          \n",
       "2006-06-23               0.0                     0.0                    0.0   \n",
       "2006-06-30              65.0                   100.0                  125.0   \n",
       "2006-07-05              20.0                    50.0                  100.0   \n",
       "2006-07-12              25.0                    50.0                  150.0   \n",
       "2006-07-19              25.0                    50.0                  100.0   \n",
       "\n",
       "            Standard Deviation  NAAIM Number  S&P 500  \n",
       "Date                                                   \n",
       "2006-06-23                0.00          0.00     0.00  \n",
       "2006-06-30               53.51         56.33  1326.05  \n",
       "2006-07-05               55.55         19.44  1265.48  \n",
       "2006-07-12               47.84         31.20  1236.20  \n",
       "2006-07-19               38.17         18.76  1240.29  "
      ]
     },
     "execution_count": 61,
     "metadata": {},
     "output_type": "execute_result"
    }
   ],
   "source": [
    "NAAIM_exposure_df.head()"
   ]
  },
  {
   "cell_type": "code",
   "execution_count": 62,
   "metadata": {},
   "outputs": [
    {
     "data": {
      "text/plain": [
       "Index(['Mean/Average', 'Most Bearish Response', 'Quart 1 (25% at/below)',\n",
       "       'Quart 2 (median)', 'Quart 3 (25% at/above)', 'Most Bullish Response',\n",
       "       'Standard Deviation', 'NAAIM Number', 'S&P 500'],\n",
       "      dtype='object')"
      ]
     },
     "execution_count": 62,
     "metadata": {},
     "output_type": "execute_result"
    }
   ],
   "source": [
    "NAAIM_exposure_df.columns"
   ]
  },
  {
   "cell_type": "code",
   "execution_count": 63,
   "metadata": {},
   "outputs": [],
   "source": [
    "#drop columns\n",
    "drop_columns = ['Quart 1 (25% at/below)','Quart 3 (25% at/above)', 'Standard Deviation', 'NAAIM Number', 'S&P 500']"
   ]
  },
  {
   "cell_type": "code",
   "execution_count": 64,
   "metadata": {},
   "outputs": [],
   "source": [
    "NAAIM_exposure_df.drop(columns=drop_columns,inplace=True)"
   ]
  },
  {
   "cell_type": "code",
   "execution_count": 65,
   "metadata": {},
   "outputs": [
    {
     "data": {
      "text/html": [
       "<div>\n",
       "<style scoped>\n",
       "    .dataframe tbody tr th:only-of-type {\n",
       "        vertical-align: middle;\n",
       "    }\n",
       "\n",
       "    .dataframe tbody tr th {\n",
       "        vertical-align: top;\n",
       "    }\n",
       "\n",
       "    .dataframe thead th {\n",
       "        text-align: right;\n",
       "    }\n",
       "</style>\n",
       "<table border=\"1\" class=\"dataframe\">\n",
       "  <thead>\n",
       "    <tr style=\"text-align: right;\">\n",
       "      <th></th>\n",
       "      <th>Mean/Average</th>\n",
       "      <th>Most Bearish Response</th>\n",
       "      <th>Quart 2 (median)</th>\n",
       "      <th>Most Bullish Response</th>\n",
       "    </tr>\n",
       "    <tr>\n",
       "      <th>Date</th>\n",
       "      <th></th>\n",
       "      <th></th>\n",
       "      <th></th>\n",
       "      <th></th>\n",
       "    </tr>\n",
       "  </thead>\n",
       "  <tbody>\n",
       "    <tr>\n",
       "      <td>2006-06-23</td>\n",
       "      <td>0.00</td>\n",
       "      <td>0.0</td>\n",
       "      <td>0.0</td>\n",
       "      <td>0.0</td>\n",
       "    </tr>\n",
       "    <tr>\n",
       "      <td>2006-06-30</td>\n",
       "      <td>56.33</td>\n",
       "      <td>-125.0</td>\n",
       "      <td>65.0</td>\n",
       "      <td>125.0</td>\n",
       "    </tr>\n",
       "    <tr>\n",
       "      <td>2006-07-05</td>\n",
       "      <td>19.44</td>\n",
       "      <td>-100.0</td>\n",
       "      <td>20.0</td>\n",
       "      <td>100.0</td>\n",
       "    </tr>\n",
       "    <tr>\n",
       "      <td>2006-07-12</td>\n",
       "      <td>31.20</td>\n",
       "      <td>-50.0</td>\n",
       "      <td>25.0</td>\n",
       "      <td>150.0</td>\n",
       "    </tr>\n",
       "    <tr>\n",
       "      <td>2006-07-19</td>\n",
       "      <td>18.76</td>\n",
       "      <td>-100.0</td>\n",
       "      <td>25.0</td>\n",
       "      <td>100.0</td>\n",
       "    </tr>\n",
       "  </tbody>\n",
       "</table>\n",
       "</div>"
      ],
      "text/plain": [
       "            Mean/Average  Most Bearish Response  Quart 2 (median)  \\\n",
       "Date                                                                \n",
       "2006-06-23          0.00                    0.0               0.0   \n",
       "2006-06-30         56.33                 -125.0              65.0   \n",
       "2006-07-05         19.44                 -100.0              20.0   \n",
       "2006-07-12         31.20                  -50.0              25.0   \n",
       "2006-07-19         18.76                 -100.0              25.0   \n",
       "\n",
       "            Most Bullish Response  \n",
       "Date                               \n",
       "2006-06-23                    0.0  \n",
       "2006-06-30                  125.0  \n",
       "2006-07-05                  100.0  \n",
       "2006-07-12                  150.0  \n",
       "2006-07-19                  100.0  "
      ]
     },
     "execution_count": 65,
     "metadata": {},
     "output_type": "execute_result"
    }
   ],
   "source": [
    "NAAIM_exposure_df.head()"
   ]
  },
  {
   "cell_type": "code",
   "execution_count": 66,
   "metadata": {},
   "outputs": [],
   "source": [
    "#Export to CSV\n",
    "NAAIM_exposure_df.to_csv('NAAIM.csv')"
   ]
  },
  {
   "cell_type": "markdown",
   "metadata": {},
   "source": [
    "#### University of Michigan Consumer Sentiment"
   ]
  },
  {
   "cell_type": "code",
   "execution_count": 67,
   "metadata": {},
   "outputs": [],
   "source": [
    "mich_sent = 'UMICH/SOC1'\n",
    "mich_sent_df = quandl.get(mich_sent, start_date=start_date, end_date=end_date)"
   ]
  },
  {
   "cell_type": "code",
   "execution_count": 68,
   "metadata": {},
   "outputs": [
    {
     "data": {
      "text/html": [
       "<div>\n",
       "<style scoped>\n",
       "    .dataframe tbody tr th:only-of-type {\n",
       "        vertical-align: middle;\n",
       "    }\n",
       "\n",
       "    .dataframe tbody tr th {\n",
       "        vertical-align: top;\n",
       "    }\n",
       "\n",
       "    .dataframe thead th {\n",
       "        text-align: right;\n",
       "    }\n",
       "</style>\n",
       "<table border=\"1\" class=\"dataframe\">\n",
       "  <thead>\n",
       "    <tr style=\"text-align: right;\">\n",
       "      <th></th>\n",
       "      <th>Index</th>\n",
       "    </tr>\n",
       "    <tr>\n",
       "      <th>Date</th>\n",
       "      <th></th>\n",
       "    </tr>\n",
       "  </thead>\n",
       "  <tbody>\n",
       "    <tr>\n",
       "      <td>2004-12-31</td>\n",
       "      <td>97.1</td>\n",
       "    </tr>\n",
       "    <tr>\n",
       "      <td>2005-01-31</td>\n",
       "      <td>95.5</td>\n",
       "    </tr>\n",
       "    <tr>\n",
       "      <td>2005-02-28</td>\n",
       "      <td>94.1</td>\n",
       "    </tr>\n",
       "    <tr>\n",
       "      <td>2005-03-31</td>\n",
       "      <td>92.6</td>\n",
       "    </tr>\n",
       "    <tr>\n",
       "      <td>2005-04-30</td>\n",
       "      <td>87.7</td>\n",
       "    </tr>\n",
       "  </tbody>\n",
       "</table>\n",
       "</div>"
      ],
      "text/plain": [
       "            Index\n",
       "Date             \n",
       "2004-12-31   97.1\n",
       "2005-01-31   95.5\n",
       "2005-02-28   94.1\n",
       "2005-03-31   92.6\n",
       "2005-04-30   87.7"
      ]
     },
     "execution_count": 68,
     "metadata": {},
     "output_type": "execute_result"
    }
   ],
   "source": [
    "mich_sent_df.head()"
   ]
  },
  {
   "cell_type": "code",
   "execution_count": 69,
   "metadata": {},
   "outputs": [],
   "source": [
    "#Export to CSV\n",
    "mich_sent_df.to_csv('UMICH.csv')"
   ]
  },
  {
   "cell_type": "markdown",
   "metadata": {},
   "source": [
    "#### NYTimes Articles"
   ]
  },
  {
   "cell_type": "code",
   "execution_count": 9,
   "metadata": {},
   "outputs": [],
   "source": [
    "#Import NYTimes API key\n",
    "with open('nytimes.json') as f:\n",
    "    nyt_keys= json.load(f)\n"
   ]
  },
  {
   "cell_type": "markdown",
   "metadata": {},
   "source": [
    "I had to break the API pulls into chunks as it was 1-2m articles and appending to one giant dataframe took too long. I'll be merging and filtering the articles in the DataCleanand Process workbook and combining into one dataframe there."
   ]
  },
  {
   "cell_type": "code",
   "execution_count": 16,
   "metadata": {},
   "outputs": [],
   "source": [
    "#Set year and month ranges\n",
    "years = range(2010,2014)\n",
    "months1 = range(1,7)\n",
    "months2 = range(7,13)"
   ]
  },
  {
   "cell_type": "markdown",
   "metadata": {},
   "source": [
    "The loop below pulls the publication date, headline and snippet from all NY Times articles over the specified time frame and exports to a csv"
   ]
  },
  {
   "cell_type": "code",
   "execution_count": null,
   "metadata": {},
   "outputs": [
    {
     "name": "stdout",
     "output_type": "stream",
     "text": [
      "2010 1\n",
      "2010 2\n",
      "2010 3\n",
      "bad entry\n",
      "2010 4\n",
      "bad entry\n",
      "2010 5\n",
      "2010 6\n"
     ]
    }
   ],
   "source": [
    "#loop through each year\n",
    "for year in years:\n",
    "    #create temp dataframe\n",
    "    nyt_df = pd.DataFrame(columns=['Date', 'Headline','Snippet'])\n",
    "    \n",
    "    #loop through first 6 months\n",
    "    for month in months1:\n",
    "        #set the url for the api pull\n",
    "        url = 'https://api.nytimes.com/svc/archive/v1/'\n",
    "        url = url + str(year) + '/' + str(month) + '.json?api-key=' + nyt_keys['api_key']\n",
    "        \n",
    "        #pull data from NY Times\n",
    "        responses=requests.get(url)\n",
    "        articles = responses.json()\n",
    "        print(year,month)\n",
    "        \n",
    "        #loop through each article and grab the relavent fields\n",
    "        for article in articles['response']['docs']:\n",
    "            try:\n",
    "                nyt_df = nyt_df.append({'Date' : article['pub_date'] , 'Headline' : article['headline']['main'] ,'Snippet' : article['snippet']},ignore_index=True)\n",
    "            except:\n",
    "                print('bad entry')\n",
    "                continue\n",
    "    #set path to export\n",
    "    path = 'nyt'+str(year)+'1.csv'            \n",
    "    nyt_df.to_csv(path)\n",
    "    nyt_df = pd.DataFrame(columns=['Date', 'Headline','Snippet'])\n",
    "    for month in months2:\n",
    "        url = 'https://api.nytimes.com/svc/archive/v1/'\n",
    "        url = url + str(year) + '/' + str(month) + '.json?api-key=' + nyt_keys['api_key']\n",
    "        responses=requests.get(url)\n",
    "        articles = responses.json()\n",
    "        print(year,month)\n",
    "        for article in articles['response']['docs']:\n",
    "            try:\n",
    "                nyt_df = nyt_df.append({'Date' : article['pub_date'] , 'Headline' : article['headline']['main'] ,'Snippet' : article['snippet']},ignore_index=True)\n",
    "            except:\n",
    "                print('bad entry')\n",
    "                continue\n",
    "    path = 'nyt'+str(year)+'2.csv'            \n",
    "    nyt_df.to_csv(path)"
   ]
  },
  {
   "cell_type": "code",
   "execution_count": null,
   "metadata": {},
   "outputs": [],
   "source": []
  }
 ],
 "metadata": {
  "kernelspec": {
   "display_name": "Python 3",
   "language": "python",
   "name": "python3"
  },
  "language_info": {
   "codemirror_mode": {
    "name": "ipython",
    "version": 3
   },
   "file_extension": ".py",
   "mimetype": "text/x-python",
   "name": "python",
   "nbconvert_exporter": "python",
   "pygments_lexer": "ipython3",
   "version": "3.7.4"
  },
  "toc": {
   "base_numbering": 1,
   "nav_menu": {},
   "number_sections": true,
   "sideBar": true,
   "skip_h1_title": false,
   "title_cell": "Table of Contents",
   "title_sidebar": "Contents",
   "toc_cell": false,
   "toc_position": {},
   "toc_section_display": true,
   "toc_window_display": false
  }
 },
 "nbformat": 4,
 "nbformat_minor": 2
}

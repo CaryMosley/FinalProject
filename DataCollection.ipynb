{
 "cells": [
  {
   "cell_type": "markdown",
   "metadata": {},
   "source": [
    "# Capstone Project\n",
    "## Data Collection Workbook\n",
    "### Import Libraries"
   ]
  },
  {
   "cell_type": "code",
   "execution_count": 197,
   "metadata": {},
   "outputs": [],
   "source": [
    "import pandas\n",
    "import calendar, time\n",
    "import datetime\n",
    "from datetime import date\n",
    "from dateutil.relativedelta import relativedelta\n",
    "import praw\n",
    "import requests\n",
    "from requests import get\n",
    "import json\n",
    "\n",
    "\n",
    "\n"
   ]
  },
  {
   "cell_type": "code",
   "execution_count": 176,
   "metadata": {},
   "outputs": [],
   "source": [
    "#Get Historical StockData From Yahoo Finance\n",
    "def StockData(ticker, interval = '1d', end_date = date.today(), length = 1):\n",
    "    start_date = (end_date - relativedelta(years=length))\n",
    "    start_date_epoch = calendar.timegm(time.strptime(str(start_date), '%Y-%m-%d'))\n",
    "    end_date_epoch = calendar.timegm(time.strptime(str(end_date), '%Y-%m-%d'))\n",
    "    url = 'https://query1.finance.yahoo.com/v7/finance/download/' + ticker\n",
    "    url = url + '?period1=' + str(start_date_epoch) + '&period2=' + str(end_date_epoch)\n",
    "    url = url + '&interval=' + interval + '&events=history'\n",
    "    df = pd.read_csv(url)\n",
    "    df.sort_values(by=['Date'],ascending=False,inplace=True)\n",
    "    df.set_index('Date', inplace=True)\n",
    "    columns_to_drop = ['Open','High','Low','Close']\n",
    "    df.drop(columns=columns_to_drop,inplace=True)\n",
    "    return df"
   ]
  },
  {
   "cell_type": "code",
   "execution_count": 182,
   "metadata": {},
   "outputs": [
    {
     "data": {
      "text/html": [
       "<div>\n",
       "<style scoped>\n",
       "    .dataframe tbody tr th:only-of-type {\n",
       "        vertical-align: middle;\n",
       "    }\n",
       "\n",
       "    .dataframe tbody tr th {\n",
       "        vertical-align: top;\n",
       "    }\n",
       "\n",
       "    .dataframe thead th {\n",
       "        text-align: right;\n",
       "    }\n",
       "</style>\n",
       "<table border=\"1\" class=\"dataframe\">\n",
       "  <thead>\n",
       "    <tr style=\"text-align: right;\">\n",
       "      <th></th>\n",
       "      <th>Adj Close</th>\n",
       "      <th>Volume</th>\n",
       "    </tr>\n",
       "    <tr>\n",
       "      <th>Date</th>\n",
       "      <th></th>\n",
       "      <th></th>\n",
       "    </tr>\n",
       "  </thead>\n",
       "  <tbody>\n",
       "    <tr>\n",
       "      <td>2020-05-08</td>\n",
       "      <td>20.180000</td>\n",
       "      <td>23632000</td>\n",
       "    </tr>\n",
       "    <tr>\n",
       "      <td>2020-05-07</td>\n",
       "      <td>19.840000</td>\n",
       "      <td>24927600</td>\n",
       "    </tr>\n",
       "    <tr>\n",
       "      <td>2020-05-06</td>\n",
       "      <td>18.500000</td>\n",
       "      <td>23781300</td>\n",
       "    </tr>\n",
       "    <tr>\n",
       "      <td>2020-05-05</td>\n",
       "      <td>16.620001</td>\n",
       "      <td>7678400</td>\n",
       "    </tr>\n",
       "    <tr>\n",
       "      <td>2020-05-04</td>\n",
       "      <td>16.680000</td>\n",
       "      <td>6632500</td>\n",
       "    </tr>\n",
       "  </tbody>\n",
       "</table>\n",
       "</div>"
      ],
      "text/plain": [
       "            Adj Close    Volume\n",
       "Date                           \n",
       "2020-05-08  20.180000  23632000\n",
       "2020-05-07  19.840000  24927600\n",
       "2020-05-06  18.500000  23781300\n",
       "2020-05-05  16.620001   7678400\n",
       "2020-05-04  16.680000   6632500"
      ]
     },
     "execution_count": 182,
     "metadata": {},
     "output_type": "execute_result"
    }
   ],
   "source": [
    "ticker = 'SPCE'\n",
    "length=5\n",
    "interval='1d'\n",
    "end_date = date.today()\n",
    "df = StockData(ticker,interval,end_date,length)\n",
    "df.head()"
   ]
  },
  {
   "cell_type": "code",
   "execution_count": 228,
   "metadata": {},
   "outputs": [],
   "source": [
    "with open('reddit.json') as f:\n",
    "    keys= json.load(f)\n",
    "\n",
    "reddit = praw.Reddit(client_id = keys['client_id'], client_secret = keys['client_secret'], \n",
    "                     password = keys['password'], user_agent = keys['user_agent'],\n",
    "                     username = keys['username'])\n"
   ]
  },
  {
   "cell_type": "code",
   "execution_count": 229,
   "metadata": {},
   "outputs": [
    {
     "name": "stdout",
     "output_type": "stream",
     "text": [
      "Daily Discussion Thread for May 11, 2020\n",
      "Bull Visits a Fallen Bear\n",
      "Uppies is Downies\n",
      "This is for all you retards saying the last post was fake\n",
      "Explaining the new Robinhood bill to her....\n",
      "521K banger on NVDA. Ride Or Die\n",
      "Mnuchin says he’s comfortable spending $3 trillion because Treasury can lock in very low rates - I'm glad my grand children gonna pay for it.\n",
      "If the Tesla headlines happened to any other company, they'd be down massively.\n",
      "Huge volume on August $5 puts on GE\n",
      "PUTS - Lets hope these print today\n"
     ]
    }
   ],
   "source": [
    "subreddit = 'WallStreetBets'\n",
    "hot_posts = reddit.subreddit(subreddit).hot(limit=10)\n",
    "for post in hot_posts:\n",
    "    print(post.title)"
   ]
  },
  {
   "cell_type": "code",
   "execution_count": 225,
   "metadata": {},
   "outputs": [
    {
     "data": {
      "text/plain": [
       "'WallStreetBetsData'"
      ]
     },
     "execution_count": 225,
     "metadata": {},
     "output_type": "execute_result"
    }
   ],
   "source": []
  },
  {
   "cell_type": "code",
   "execution_count": null,
   "metadata": {},
   "outputs": [],
   "source": []
  }
 ],
 "metadata": {
  "kernelspec": {
   "display_name": "Python 3",
   "language": "python",
   "name": "python3"
  },
  "language_info": {
   "codemirror_mode": {
    "name": "ipython",
    "version": 3
   },
   "file_extension": ".py",
   "mimetype": "text/x-python",
   "name": "python",
   "nbconvert_exporter": "python",
   "pygments_lexer": "ipython3",
   "version": "3.7.4"
  },
  "toc": {
   "base_numbering": 1,
   "nav_menu": {},
   "number_sections": true,
   "sideBar": true,
   "skip_h1_title": false,
   "title_cell": "Table of Contents",
   "title_sidebar": "Contents",
   "toc_cell": false,
   "toc_position": {},
   "toc_section_display": true,
   "toc_window_display": false
  }
 },
 "nbformat": 4,
 "nbformat_minor": 2
}

{
 "cells": [
  {
   "cell_type": "markdown",
   "metadata": {},
   "source": [
    "# Capstone Project- Time Series Modeling Workbook\n",
    "Cary Mosley, May 2020"
   ]
  },
  {
   "cell_type": "markdown",
   "metadata": {},
   "source": [
    "## Import Libraries"
   ]
  },
  {
   "cell_type": "code",
   "execution_count": 1,
   "metadata": {},
   "outputs": [],
   "source": [
    "import pandas as pd\n",
    "import calendar, time\n",
    "import datetime as dt\n",
    "from datetime import date\n",
    "from pandas.tseries.offsets import DateOffset\n",
    "import numpy as np\n",
    "import string, re \n",
    "import matplotlib.pyplot as plt\n",
    "import seaborn as sns\n",
    "from statsmodels.tsa.stattools import adfuller\n",
    "from statsmodels.tsa.arima_model import ARIMA\n",
    "from statsmodels.graphics.tsaplots import plot_acf\n",
    "from statsmodels.graphics.tsaplots import plot_pacf\n",
    "from sklearn.metrics import mean_squared_error\n",
    "\n",
    "\n",
    "\n",
    "import warnings\n",
    "warnings.filterwarnings(\"once\")"
   ]
  },
  {
   "cell_type": "markdown",
   "metadata": {},
   "source": [
    "## Outline\n",
    "* First I will check for stationarity/unit roots using the Dickey-Fuller and if I find the time series are not stationary I will work with the data to arrive at stationarity.\n",
    "* I will construct ARIMAX models for both SPY and VIX seperately using senitment indicators and the NY Times sentiment analysis seperately\n",
    "* I will work with my sentiment indicators to feature engineer and then build another set of ARIMAX models using this data\n",
    "* I will create a VAR model using SPY and VIX together"
   ]
  },
  {
   "cell_type": "markdown",
   "metadata": {},
   "source": [
    "# Stationarity"
   ]
  },
  {
   "cell_type": "markdown",
   "metadata": {},
   "source": [
    "The first thing I'm going to do is check for unit roots on SPY and VIX using a Dickey Fuller test."
   ]
  },
  {
   "cell_type": "code",
   "execution_count": 61,
   "metadata": {},
   "outputs": [],
   "source": [
    "\n",
    "def DickeyFullerTest(time_series, alpha = .05):\n",
    "    '''This function takes in a time series and then outputs and formats the results of\n",
    "    a Dickey-Fuller test You can also optionally send in a specific p value.\n",
    "    '''\n",
    "    #initialize test\n",
    "    DFTest = adfuller(time_series)\n",
    "    \n",
    "    #results\n",
    "    results = pd.Series(DFTest[0:4], index=['Test Statistic', 'p-value', '#Lags Used', 'Number of Observations Used'])\n",
    "    if results[1] > alpha:\n",
    "        print('We fail to reject the null hypothesis that there is a unit root as our p-value of'\n",
    "              , round(results[1],3), 'is greater than our alpha of', alpha,'\\n')\n",
    "    else:\n",
    "        print('Our p-value of', round(results[1],3), 'is less than our alpha of', alpha,\n",
    "              'so we reject the null hypothesis that there is a unit root. The data is stationary.\\n')\n",
    "    print ('Dickey-Fuller test: \\n')\n",
    "    print(results)"
   ]
  },
  {
   "cell_type": "code",
   "execution_count": 53,
   "metadata": {},
   "outputs": [],
   "source": [
    "# Read in the SPY and VIX data\n",
    "spy_df=pd.read_pickle('Data/spy_df')\n",
    "vix_df=pd.read_pickle('Data/vix_df')"
   ]
  },
  {
   "cell_type": "code",
   "execution_count": 54,
   "metadata": {},
   "outputs": [],
   "source": [
    "#Dropping the ticker column\n",
    "spy_df = spy_df['Adj Close'].to_frame()\n",
    "vix_df = vix_df['Adj Close'].to_frame()"
   ]
  },
  {
   "cell_type": "markdown",
   "metadata": {},
   "source": [
    "Now I will run the Dickey Fuller tests\n"
   ]
  },
  {
   "cell_type": "code",
   "execution_count": 55,
   "metadata": {},
   "outputs": [
    {
     "name": "stdout",
     "output_type": "stream",
     "text": [
      "<class 'pandas.core.frame.DataFrame'>\n",
      "DatetimeIndex: 723 entries, 2006-06-29 to 2020-04-30\n",
      "Freq: W-THU\n",
      "Data columns (total 1 columns):\n",
      "Adj Close    723 non-null float64\n",
      "dtypes: float64(1)\n",
      "memory usage: 11.3 KB\n"
     ]
    }
   ],
   "source": [
    "spy_df.info()"
   ]
  },
  {
   "cell_type": "code",
   "execution_count": 62,
   "metadata": {},
   "outputs": [
    {
     "name": "stdout",
     "output_type": "stream",
     "text": [
      "We fail to reject the null hypothesis that there is a unit root as our p-value of 0.974 is greater than our alpha of 0.05 \n",
      "\n",
      "Dickey-Fuller test: \n",
      "\n",
      "Test Statistic                   0.223900\n",
      "p-value                          0.973571\n",
      "#Lags Used                       9.000000\n",
      "Number of Observations Used    713.000000\n",
      "dtype: float64\n"
     ]
    }
   ],
   "source": [
    "#Set alpha\n",
    "alpha = .05\n",
    "DickeyFullerTest(spy_df['Adj Close'],alpha)"
   ]
  },
  {
   "cell_type": "code",
   "execution_count": 63,
   "metadata": {},
   "outputs": [
    {
     "name": "stdout",
     "output_type": "stream",
     "text": [
      "Our p-value of 0.031 is less than our alpha of 0.05 so we reject the null hypothesi that there is a unit root. The data is stationary.\n",
      "\n",
      "Dickey-Fuller test: \n",
      "\n",
      "Test Statistic                  -3.042269\n",
      "p-value                          0.031131\n",
      "#Lags Used                      11.000000\n",
      "Number of Observations Used    711.000000\n",
      "dtype: float64\n"
     ]
    }
   ],
   "source": [
    "DickeyFullerTest(vix_df['Adj Close'],alpha)"
   ]
  },
  {
   "cell_type": "markdown",
   "metadata": {},
   "source": [
    "The SPY data is not stationary while the VIX data already is. I'll difference the SPY data and then perform the Dickey Fuller test again."
   ]
  },
  {
   "cell_type": "code",
   "execution_count": 65,
   "metadata": {},
   "outputs": [],
   "source": [
    "spy_diff = spy_df.diff().dropna()"
   ]
  },
  {
   "cell_type": "code",
   "execution_count": 67,
   "metadata": {},
   "outputs": [
    {
     "name": "stdout",
     "output_type": "stream",
     "text": [
      "Our p-value of 0.0 is less than our alpha of 0.05 so we reject the null hypothesi that there is a unit root. The data is stationary.\n",
      "\n",
      "Dickey-Fuller test: \n",
      "\n",
      "Test Statistic                -9.722162e+00\n",
      "p-value                        9.480394e-17\n",
      "#Lags Used                     8.000000e+00\n",
      "Number of Observations Used    7.130000e+02\n",
      "dtype: float64\n"
     ]
    }
   ],
   "source": [
    "DickeyFullerTest(spy_diff['Adj Close'],alpha)"
   ]
  },
  {
   "cell_type": "code",
   "execution_count": 70,
   "metadata": {},
   "outputs": [
    {
     "data": {
      "text/plain": [
       "Text(0.5, 1.0, 'Differenced SPY close over time')"
      ]
     },
     "execution_count": 70,
     "metadata": {},
     "output_type": "execute_result"
    },
    {
     "data": {
      "image/png": "[encoded data removed]",
      "text/plain": [
       "<Figure size 864x576 with 1 Axes>"
      ]
     },
     "metadata": {
      "needs_background": "light"
     },
     "output_type": "display_data"
    }
   ],
   "source": [
    "plt.figure(figsize=(12,8))\n",
    "plt.plot(spy_diff)\n",
    "plt.title('Differenced SPY close over time')"
   ]
  },
  {
   "cell_type": "code",
   "execution_count": 82,
   "metadata": {},
   "outputs": [],
   "source": [
    "#Writing the differenced SPY to a pickle\n",
    "spy_diff.to_pickle('Data/spy_diff')"
   ]
  },
  {
   "cell_type": "markdown",
   "metadata": {},
   "source": [
    "Now that we have confirmed both our time series are stationary its time to examine the ACF and PACF plots so that we can build our baseline models."
   ]
  },
  {
   "cell_type": "code",
   "execution_count": 81,
   "metadata": {},
   "outputs": [
    {
     "data": {
      "image/png": "[encoded data removed]",
      "text/plain": [
       "<Figure size 432x288 with 1 Axes>"
      ]
     },
     "metadata": {
      "needs_background": "light"
     },
     "output_type": "display_data"
    },
    {
     "data": {
      "image/png": "[encoded data removed]",
      "text/plain": [
       "<Figure size 432x288 with 1 Axes>"
      ]
     },
     "metadata": {
      "needs_background": "light"
     },
     "output_type": "display_data"
    }
   ],
   "source": [
    "alpha=.05\n",
    "plot_acf(spy_diff['Adj Close'], alpha=alpha);\n",
    "plot_pacf(spy_diff['Adj Close'], alpha=alpha);"
   ]
  },
  {
   "cell_type": "markdown",
   "metadata": {},
   "source": [
    "The autocorrelation plot tells us whether we need to add MA terms. It is clear that the first lag is significant and then possible a few later lags might be. The PACF plot shows us also that the 1st and maybe 4th lag are going to be useful to include as the AR term. For this first model I'll make sure to use a (1,1,1) and will try some other combinations as well. These plots also look typical for a random walk time series."
   ]
  },
  {
   "cell_type": "code",
   "execution_count": 83,
   "metadata": {},
   "outputs": [
    {
     "data": {
      "image/png": "[encoded data removed]",
      "text/plain": [
       "<Figure size 432x288 with 1 Axes>"
      ]
     },
     "metadata": {
      "needs_background": "light"
     },
     "output_type": "display_data"
    },
    {
     "data": {
      "image/png": "[encoded data removed]",
      "text/plain": [
       "<Figure size 432x288 with 1 Axes>"
      ]
     },
     "metadata": {
      "needs_background": "light"
     },
     "output_type": "display_data"
    }
   ],
   "source": [
    "alpha=.05\n",
    "plot_acf(vix_df['Adj Close'], alpha=alpha);\n",
    "plot_pacf(vix_df['Adj Close'], alpha=alpha);"
   ]
  },
  {
   "cell_type": "markdown",
   "metadata": {},
   "source": [
    "We can see from the ACF plot that there are a number of strongly positively correlated lags we can use for the moving average model. This is somewhat expected as there is a tendency for VIX to be sticky for a period of time although it does tend to mean revert to a white noise series. The PACF shows us that only the first lag is strongly correlated. Thus a (1,0,n) model is likely to be decent with n potentially being a number of variables.\n",
    "\n",
    "Now that we have looked through these I will build some baseline ARIMA models and then will incorporate the sentiment data."
   ]
  },
  {
   "cell_type": "markdown",
   "metadata": {},
   "source": [
    "# Modeling\n",
    "This next section will begin with building and evaluatiing ARIMA models for SPY and VIX before expanding to include the exogenous variables.\n",
    "## ARIMA Models\n"
   ]
  },
  {
   "cell_type": "code",
   "execution_count": 145,
   "metadata": {},
   "outputs": [],
   "source": [
    "def ARIMA_models(time_series,AR_terms,MA_terms):\n",
    "    '''This function takes in a timeseries and a set of AR and MA terms to try. The time series\n",
    "    that it takes in needs to be already stationary. The function then returns a data frame\n",
    "    of the model results'''\n",
    "    #I'm going to break the time series into a train and test set using the earlier data as the train\n",
    "    time_train = time_series[:'2017-12']\n",
    "    time_test = time_series['2018-01':]\n",
    "    \n",
    "    #Create results dataframe\n",
    "    results = pd.DataFrame(columns=['Order', 'AIC', 'BIC', 'Test RMSE'])\n",
    "    \n",
    "    #ignore orders that do not converge or cause other erros\n",
    "    for p in AR_terms:\n",
    "        for q in MA_terms:\n",
    "            try:\n",
    "                order = (p,0,q)\n",
    "                time_series_model = ARIMA(time_train,order=order)\n",
    "                time_series_fitted = time_series_model.fit()\n",
    "                forecast, se, conf = time_series_fitted.forecast(len(time_test),alpha=.05)\n",
    "                aic = round(time_series_fitted.aic,3)\n",
    "                bic = round(time_series_fitted.bic,3)\n",
    "                test_rmse = np.sqrt(mean_squared_error(time_test.values,forecast))\n",
    "                results = results.append({'Order': order, 'AIC' : aic,\n",
    "                           'BIC': bic,'Test RMSE': round(test_rmse,3)},ignore_index=True)\n",
    "            except:\n",
    "                print('Order',order,'caused an error.')\n",
    "                continue\n",
    "    return results\n",
    "    "
   ]
  },
  {
   "cell_type": "code",
   "execution_count": 146,
   "metadata": {},
   "outputs": [
    {
     "data": {
      "text/html": [
       "<div>\n",
       "<style scoped>\n",
       "    .dataframe tbody tr th:only-of-type {\n",
       "        vertical-align: middle;\n",
       "    }\n",
       "\n",
       "    .dataframe tbody tr th {\n",
       "        vertical-align: top;\n",
       "    }\n",
       "\n",
       "    .dataframe thead th {\n",
       "        text-align: right;\n",
       "    }\n",
       "</style>\n",
       "<table border=\"1\" class=\"dataframe\">\n",
       "  <thead>\n",
       "    <tr style=\"text-align: right;\">\n",
       "      <th></th>\n",
       "      <th>Order</th>\n",
       "      <th>AIC</th>\n",
       "      <th>BIC</th>\n",
       "      <th>Test RMSE</th>\n",
       "    </tr>\n",
       "  </thead>\n",
       "  <tbody>\n",
       "    <tr>\n",
       "      <td>0</td>\n",
       "      <td>(1, 0, 1)</td>\n",
       "      <td>2598.656</td>\n",
       "      <td>2616.244</td>\n",
       "      <td>6.690</td>\n",
       "    </tr>\n",
       "    <tr>\n",
       "      <td>1</td>\n",
       "      <td>(1, 0, 2)</td>\n",
       "      <td>2600.653</td>\n",
       "      <td>2622.637</td>\n",
       "      <td>6.690</td>\n",
       "    </tr>\n",
       "    <tr>\n",
       "      <td>2</td>\n",
       "      <td>(2, 0, 1)</td>\n",
       "      <td>2600.643</td>\n",
       "      <td>2622.628</td>\n",
       "      <td>6.690</td>\n",
       "    </tr>\n",
       "    <tr>\n",
       "      <td>3</td>\n",
       "      <td>(2, 0, 2)</td>\n",
       "      <td>2602.645</td>\n",
       "      <td>2629.027</td>\n",
       "      <td>6.689</td>\n",
       "    </tr>\n",
       "  </tbody>\n",
       "</table>\n",
       "</div>"
      ],
      "text/plain": [
       "       Order       AIC       BIC  Test RMSE\n",
       "0  (1, 0, 1)  2598.656  2616.244      6.690\n",
       "1  (1, 0, 2)  2600.653  2622.637      6.690\n",
       "2  (2, 0, 1)  2600.643  2622.628      6.690\n",
       "3  (2, 0, 2)  2602.645  2629.027      6.689"
      ]
     },
     "execution_count": 146,
     "metadata": {},
     "output_type": "execute_result"
    }
   ],
   "source": [
    "AR_terms = [1,2]\n",
    "MA_terms = [1,2]\n",
    "ARIMA_models(spy_diff,AR_terms,MA_terms)"
   ]
  },
  {
   "cell_type": "markdown",
   "metadata": {},
   "source": [
    "These models look almost identical so we will choose the model we expected from our ACF and PACF plots of (1,1,1)"
   ]
  },
  {
   "cell_type": "code",
   "execution_count": 147,
   "metadata": {},
   "outputs": [
    {
     "name": "stderr",
     "output_type": "stream",
     "text": [
      "/Users/carymosley/opt/anaconda3/lib/python3.7/site-packages/statsmodels/tsa/tsatools.py:668: RuntimeWarning: overflow encountered in exp\n",
      "  newparams = ((1-np.exp(-params))/(1+np.exp(-params))).copy()\n",
      "/Users/carymosley/opt/anaconda3/lib/python3.7/site-packages/statsmodels/tsa/tsatools.py:668: RuntimeWarning: invalid value encountered in true_divide\n",
      "  newparams = ((1-np.exp(-params))/(1+np.exp(-params))).copy()\n",
      "/Users/carymosley/opt/anaconda3/lib/python3.7/site-packages/statsmodels/tsa/tsatools.py:668: RuntimeWarning: overflow encountered in exp\n",
      "  newparams = ((1-np.exp(-params))/(1+np.exp(-params))).copy()\n",
      "/Users/carymosley/opt/anaconda3/lib/python3.7/site-packages/statsmodels/tsa/tsatools.py:668: RuntimeWarning: invalid value encountered in true_divide\n",
      "  newparams = ((1-np.exp(-params))/(1+np.exp(-params))).copy()\n",
      "/Users/carymosley/opt/anaconda3/lib/python3.7/site-packages/statsmodels/base/model.py:492: HessianInversionWarning: Inverting hessian failed, no bse or cov_params available\n",
      "  'available', HessianInversionWarning)\n"
     ]
    },
    {
     "name": "stdout",
     "output_type": "stream",
     "text": [
      "Order (5, 0, 5) caused an error.\n"
     ]
    },
    {
     "data": {
      "text/html": [
       "<div>\n",
       "<style scoped>\n",
       "    .dataframe tbody tr th:only-of-type {\n",
       "        vertical-align: middle;\n",
       "    }\n",
       "\n",
       "    .dataframe tbody tr th {\n",
       "        vertical-align: top;\n",
       "    }\n",
       "\n",
       "    .dataframe thead th {\n",
       "        text-align: right;\n",
       "    }\n",
       "</style>\n",
       "<table border=\"1\" class=\"dataframe\">\n",
       "  <thead>\n",
       "    <tr style=\"text-align: right;\">\n",
       "      <th></th>\n",
       "      <th>Order</th>\n",
       "      <th>AIC</th>\n",
       "      <th>BIC</th>\n",
       "      <th>Test RMSE</th>\n",
       "    </tr>\n",
       "  </thead>\n",
       "  <tbody>\n",
       "    <tr>\n",
       "      <td>0</td>\n",
       "      <td>(1, 0, 1)</td>\n",
       "      <td>2830.392</td>\n",
       "      <td>2847.986</td>\n",
       "      <td>10.099</td>\n",
       "    </tr>\n",
       "    <tr>\n",
       "      <td>1</td>\n",
       "      <td>(1, 0, 2)</td>\n",
       "      <td>2832.303</td>\n",
       "      <td>2854.296</td>\n",
       "      <td>10.097</td>\n",
       "    </tr>\n",
       "    <tr>\n",
       "      <td>2</td>\n",
       "      <td>(1, 0, 3)</td>\n",
       "      <td>2832.087</td>\n",
       "      <td>2858.479</td>\n",
       "      <td>10.092</td>\n",
       "    </tr>\n",
       "    <tr>\n",
       "      <td>3</td>\n",
       "      <td>(1, 0, 4)</td>\n",
       "      <td>2833.807</td>\n",
       "      <td>2864.597</td>\n",
       "      <td>10.093</td>\n",
       "    </tr>\n",
       "    <tr>\n",
       "      <td>4</td>\n",
       "      <td>(1, 0, 5)</td>\n",
       "      <td>2835.561</td>\n",
       "      <td>2870.750</td>\n",
       "      <td>10.092</td>\n",
       "    </tr>\n",
       "    <tr>\n",
       "      <td>5</td>\n",
       "      <td>(2, 0, 1)</td>\n",
       "      <td>2832.229</td>\n",
       "      <td>2854.222</td>\n",
       "      <td>10.097</td>\n",
       "    </tr>\n",
       "    <tr>\n",
       "      <td>6</td>\n",
       "      <td>(2, 0, 2)</td>\n",
       "      <td>2834.049</td>\n",
       "      <td>2860.440</td>\n",
       "      <td>10.101</td>\n",
       "    </tr>\n",
       "    <tr>\n",
       "      <td>7</td>\n",
       "      <td>(2, 0, 3)</td>\n",
       "      <td>2833.800</td>\n",
       "      <td>2864.590</td>\n",
       "      <td>10.093</td>\n",
       "    </tr>\n",
       "    <tr>\n",
       "      <td>8</td>\n",
       "      <td>(2, 0, 4)</td>\n",
       "      <td>2835.762</td>\n",
       "      <td>2870.950</td>\n",
       "      <td>10.093</td>\n",
       "    </tr>\n",
       "    <tr>\n",
       "      <td>9</td>\n",
       "      <td>(2, 0, 5)</td>\n",
       "      <td>2837.514</td>\n",
       "      <td>2877.102</td>\n",
       "      <td>10.092</td>\n",
       "    </tr>\n",
       "    <tr>\n",
       "      <td>10</td>\n",
       "      <td>(3, 0, 1)</td>\n",
       "      <td>2833.775</td>\n",
       "      <td>2860.167</td>\n",
       "      <td>10.093</td>\n",
       "    </tr>\n",
       "    <tr>\n",
       "      <td>11</td>\n",
       "      <td>(3, 0, 2)</td>\n",
       "      <td>2825.698</td>\n",
       "      <td>2856.489</td>\n",
       "      <td>10.111</td>\n",
       "    </tr>\n",
       "    <tr>\n",
       "      <td>12</td>\n",
       "      <td>(3, 0, 3)</td>\n",
       "      <td>2832.127</td>\n",
       "      <td>2867.315</td>\n",
       "      <td>10.096</td>\n",
       "    </tr>\n",
       "    <tr>\n",
       "      <td>13</td>\n",
       "      <td>(3, 0, 4)</td>\n",
       "      <td>2832.252</td>\n",
       "      <td>2871.839</td>\n",
       "      <td>10.101</td>\n",
       "    </tr>\n",
       "    <tr>\n",
       "      <td>14</td>\n",
       "      <td>(3, 0, 5)</td>\n",
       "      <td>2829.797</td>\n",
       "      <td>2873.783</td>\n",
       "      <td>10.092</td>\n",
       "    </tr>\n",
       "    <tr>\n",
       "      <td>15</td>\n",
       "      <td>(4, 0, 1)</td>\n",
       "      <td>2833.423</td>\n",
       "      <td>2864.213</td>\n",
       "      <td>10.093</td>\n",
       "    </tr>\n",
       "    <tr>\n",
       "      <td>16</td>\n",
       "      <td>(4, 0, 2)</td>\n",
       "      <td>2828.045</td>\n",
       "      <td>2863.234</td>\n",
       "      <td>10.099</td>\n",
       "    </tr>\n",
       "    <tr>\n",
       "      <td>17</td>\n",
       "      <td>(4, 0, 3)</td>\n",
       "      <td>2829.529</td>\n",
       "      <td>2869.116</td>\n",
       "      <td>10.093</td>\n",
       "    </tr>\n",
       "    <tr>\n",
       "      <td>18</td>\n",
       "      <td>(4, 0, 4)</td>\n",
       "      <td>2831.620</td>\n",
       "      <td>2875.606</td>\n",
       "      <td>10.177</td>\n",
       "    </tr>\n",
       "    <tr>\n",
       "      <td>19</td>\n",
       "      <td>(4, 0, 5)</td>\n",
       "      <td>2831.765</td>\n",
       "      <td>2880.149</td>\n",
       "      <td>10.092</td>\n",
       "    </tr>\n",
       "    <tr>\n",
       "      <td>20</td>\n",
       "      <td>(5, 0, 1)</td>\n",
       "      <td>2835.283</td>\n",
       "      <td>2870.472</td>\n",
       "      <td>10.093</td>\n",
       "    </tr>\n",
       "    <tr>\n",
       "      <td>21</td>\n",
       "      <td>(5, 0, 2)</td>\n",
       "      <td>2829.862</td>\n",
       "      <td>2869.450</td>\n",
       "      <td>10.097</td>\n",
       "    </tr>\n",
       "    <tr>\n",
       "      <td>22</td>\n",
       "      <td>(5, 0, 3)</td>\n",
       "      <td>2835.786</td>\n",
       "      <td>2879.772</td>\n",
       "      <td>10.186</td>\n",
       "    </tr>\n",
       "    <tr>\n",
       "      <td>23</td>\n",
       "      <td>(5, 0, 4)</td>\n",
       "      <td>2825.068</td>\n",
       "      <td>2873.453</td>\n",
       "      <td>10.115</td>\n",
       "    </tr>\n",
       "  </tbody>\n",
       "</table>\n",
       "</div>"
      ],
      "text/plain": [
       "        Order       AIC       BIC  Test RMSE\n",
       "0   (1, 0, 1)  2830.392  2847.986     10.099\n",
       "1   (1, 0, 2)  2832.303  2854.296     10.097\n",
       "2   (1, 0, 3)  2832.087  2858.479     10.092\n",
       "3   (1, 0, 4)  2833.807  2864.597     10.093\n",
       "4   (1, 0, 5)  2835.561  2870.750     10.092\n",
       "5   (2, 0, 1)  2832.229  2854.222     10.097\n",
       "6   (2, 0, 2)  2834.049  2860.440     10.101\n",
       "7   (2, 0, 3)  2833.800  2864.590     10.093\n",
       "8   (2, 0, 4)  2835.762  2870.950     10.093\n",
       "9   (2, 0, 5)  2837.514  2877.102     10.092\n",
       "10  (3, 0, 1)  2833.775  2860.167     10.093\n",
       "11  (3, 0, 2)  2825.698  2856.489     10.111\n",
       "12  (3, 0, 3)  2832.127  2867.315     10.096\n",
       "13  (3, 0, 4)  2832.252  2871.839     10.101\n",
       "14  (3, 0, 5)  2829.797  2873.783     10.092\n",
       "15  (4, 0, 1)  2833.423  2864.213     10.093\n",
       "16  (4, 0, 2)  2828.045  2863.234     10.099\n",
       "17  (4, 0, 3)  2829.529  2869.116     10.093\n",
       "18  (4, 0, 4)  2831.620  2875.606     10.177\n",
       "19  (4, 0, 5)  2831.765  2880.149     10.092\n",
       "20  (5, 0, 1)  2835.283  2870.472     10.093\n",
       "21  (5, 0, 2)  2829.862  2869.450     10.097\n",
       "22  (5, 0, 3)  2835.786  2879.772     10.186\n",
       "23  (5, 0, 4)  2825.068  2873.453     10.115"
      ]
     },
     "execution_count": 147,
     "metadata": {},
     "output_type": "execute_result"
    }
   ],
   "source": [
    "AR_terms = [1,2,3,4,5]\n",
    "MA_terms = [1,2,3,4,5]\n",
    "ARIMA_models(vix_df,AR_terms,MA_terms)"
   ]
  },
  {
   "cell_type": "markdown",
   "metadata": {},
   "source": [
    "For the VIX data we can see that the (1,0,1) model performs the best although soe of the higher order lags also perform very similarly. Now I will add the exogenous variables."
   ]
  },
  {
   "cell_type": "markdown",
   "metadata": {},
   "source": [
    "## Adding Sentiment Indicators as an Exogenous variable"
   ]
  },
  {
   "cell_type": "code",
   "execution_count": null,
   "metadata": {},
   "outputs": [],
   "source": []
  }
 ],
 "metadata": {
  "kernelspec": {
   "display_name": "Python 3",
   "language": "python",
   "name": "python3"
  },
  "language_info": {
   "codemirror_mode": {
    "name": "ipython",
    "version": 3
   },
   "file_extension": ".py",
   "mimetype": "text/x-python",
   "name": "python",
   "nbconvert_exporter": "python",
   "pygments_lexer": "ipython3",
   "version": "3.7.4"
  },
  "toc": {
   "base_numbering": 1,
   "nav_menu": {},
   "number_sections": true,
   "sideBar": true,
   "skip_h1_title": false,
   "title_cell": "Table of Contents",
   "title_sidebar": "Contents",
   "toc_cell": false,
   "toc_position": {},
   "toc_section_display": true,
   "toc_window_display": false
  }
 },
 "nbformat": 4,
 "nbformat_minor": 2
}
